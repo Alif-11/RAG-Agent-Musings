{
 "cells": [
  {
   "cell_type": "code",
   "execution_count": 1,
   "id": "cbd97111",
   "metadata": {},
   "outputs": [],
   "source": [
    "import getpass\n",
    "import os\n",
    "\n",
    "# Set LangSmith Environment Variables\n",
    "os.environ[\"LANGSMITH_TRACING\"] = \"true\"\n",
    "os.environ[\"LANGSMITH_API_KEY\"] = getpass.getpass(\"Enter API key for LangSmith\")\n"
   ]
  },
  {
   "cell_type": "code",
   "execution_count": 2,
   "id": "77c0a804",
   "metadata": {},
   "outputs": [
    {
     "name": "stdout",
     "output_type": "stream",
     "text": [
      "Initializing chat model!\n",
      "Chat model initialization over!\n"
     ]
    }
   ],
   "source": [
    "# Set up google llm model for RAG usage\n",
    "os.environ[\"GOOGLE_API_KEY\"] = getpass.getpass(\"Enter API key for Google Gemini: \")\n",
    "\n",
    "\n",
    "print(\"Initializing chat model!\")\n",
    "from langchain.chat_models import init_chat_model\n",
    "\n",
    "llm = init_chat_model(\"gemini-2.0-flash\", model_provider=\"google_genai\")\n",
    "print(\"Chat model initialization over!\")"
   ]
  },
  {
   "cell_type": "code",
   "execution_count": 3,
   "id": "d23c2913",
   "metadata": {},
   "outputs": [
    {
     "name": "stdout",
     "output_type": "stream",
     "text": [
      "Initializing embedder model!\n"
     ]
    },
    {
     "name": "stderr",
     "output_type": "stream",
     "text": [
      "/opt/miniconda3/envs/rag-agent-musings/lib/python3.10/site-packages/tqdm/auto.py:21: TqdmWarning: IProgress not found. Please update jupyter and ipywidgets. See https://ipywidgets.readthedocs.io/en/stable/user_install.html\n",
      "  from .autonotebook import tqdm as notebook_tqdm\n"
     ]
    },
    {
     "name": "stdout",
     "output_type": "stream",
     "text": [
      "Embedder model initialized!\n"
     ]
    }
   ],
   "source": [
    "print(\"Initializing embedder model!\")\n",
    "from langchain_huggingface import HuggingFaceEmbeddings\n",
    "\n",
    "embeddings = HuggingFaceEmbeddings(model_name=\"sentence-transformers/all-mpnet-base-v2\")\n",
    "print(\"Embedder model initialized!\")"
   ]
  },
  {
   "cell_type": "code",
   "execution_count": 4,
   "id": "35bbca89",
   "metadata": {},
   "outputs": [
    {
     "name": "stdout",
     "output_type": "stream",
     "text": [
      "Initialize vector store!\n",
      "Vector store initialized!\n"
     ]
    }
   ],
   "source": [
    "print(\"Initialize vector store!\")\n",
    "from langchain_core.vectorstores import InMemoryVectorStore\n",
    "\n",
    "vector_store = InMemoryVectorStore(embeddings)\n",
    "print(\"Vector store initialized!\")"
   ]
  },
  {
   "cell_type": "code",
   "execution_count": 5,
   "id": "25b29c0e",
   "metadata": {},
   "outputs": [
    {
     "name": "stderr",
     "output_type": "stream",
     "text": [
      "USER_AGENT environment variable not set, consider setting it to identify your requests.\n"
     ]
    }
   ],
   "source": [
    "# Loading documents for RAG use\n",
    "\n",
    "# get beautiful soup\n",
    "import bs4\n",
    "# get Document Loaders\n",
    "from langchain_community.document_loaders import WebBaseLoader\n",
    "desired_webpage_link = \"https://lilianweng.github.io/posts/2023-06-23-agent/\"\n",
    "# the original tutorial only wanted us to keep html tags that\n",
    "# contain any of the class names listed in the tuple assigned to the \n",
    "# class_ keyword, in the below variable. We discard all other html tags.\n",
    "bs4_filtered = bs4.SoupStrainer(class_=(\"post-title\", \"post-header\", \"post-content\"))\n",
    "\n",
    "webpage_loader = WebBaseLoader(\n",
    "  web_paths=(desired_webpage_link,),\n",
    "  bs_kwargs={\"parse_only\": bs4_filtered}\n",
    ")\n",
    "\n",
    "documents = webpage_loader.load()\n",
    "#for key in documents[0]:\n",
    "  #print(f\"New key: {key}\")\n",
    "#print(f\"how many characters are in our page: {len(documents[0].page_content)}\")\n",
    "#print(f\"The first two thousand characters of the document: {documents[0].page_content[:2000]}\")"
   ]
  },
  {
   "cell_type": "code",
   "execution_count": 6,
   "id": "b3d03c34",
   "metadata": {},
   "outputs": [],
   "source": [
    "from langchain_text_splitters import RecursiveCharacterTextSplitter\n",
    "\n",
    "# create a text splitter instance\n",
    "recursive_text_splitter = RecursiveCharacterTextSplitter(\n",
    "  chunk_size=1000,\n",
    "  chunk_overlap=200,\n",
    "  add_start_index=True,\n",
    ")\n",
    "\n",
    "# obtain splitted text. our document is now a bunch of document shards.\n",
    "splitted_text = recursive_text_splitter.split_documents(documents)\n",
    "#print(f\"The splits we got back:\\n\\n{splitted_text[4].page_content}\")\n",
    "#print(f\"Number of splits:{len(splitted_text)}\")"
   ]
  },
  {
   "cell_type": "markdown",
   "id": "1f49a315",
   "metadata": {},
   "source": [
    "# We've loaded in our document. \n",
    "Split it up into text chunks, to allow our model to access bits of the data that fit into the LLM context window.\n",
    "\n",
    "Now, it's time to put these chunks into a storage format the LLM can access."
   ]
  },
  {
   "cell_type": "code",
   "execution_count": 7,
   "id": "70699a52",
   "metadata": {},
   "outputs": [],
   "source": [
    "# the vector store was previously initialized with our defined embeddings\n",
    "# in one command sequence, we tell the vector store to embed each of our document chunks.\n",
    "# we then store the embedded versions of these chunks into our vector store, for \n",
    "# later retrieval\n",
    "vector_store__document_embedded_vectors = vector_store.add_documents(splitted_text)\n"
   ]
  },
  {
   "cell_type": "code",
   "execution_count": 8,
   "id": "3de96322",
   "metadata": {},
   "outputs": [
    {
     "name": "stdout",
     "output_type": "stream",
     "text": [
      "vector store shape: ['388cc8d7-6750-46e6-838d-8d9f43b34cb0', 'c09a6f2a-b6bb-443e-9210-02c5d0f68f67', '54796ac4-90ed-4af2-9720-94112d81533d', '6f87c8b5-46c2-4003-88ab-57a885e6503a', '2a30e582-f689-454a-9610-42b3d69fc35b', 'd44e2189-30a7-4066-a5fe-0e4dcdd1380a', 'd24b4562-c796-4ccd-b628-dbc1538e7607', '74c83b49-80a9-4599-86f4-94142db15c31', '3ea4fb0e-7775-42ae-b58b-766c1c1eea5c', '4b58cbc3-e2ea-4503-b6ea-adfa45d96ac0', '4762e501-0d4c-44e8-909d-671401b87163', 'cb4753e4-deae-42b8-a31b-4ebf70e366a2', 'ce413bac-18fe-4e64-b622-4961c29f0630', '6d5b98b1-ac3a-40f5-bbaf-1bf0399ed0e2', '315014e9-9bc8-4fd7-b226-130fe17afdbc', 'd8789dcb-2915-4682-94db-ee88117d5b7b', '72d3d277-1f8f-48b5-9a17-7b7af49c1fee', 'a133c656-6f76-49b6-8579-6b7466a12a31', 'f6d710d9-1951-4fca-a98f-0fd13577d45a', '60654684-4dda-4b9a-8535-66ba22d7fa22', 'bde17f43-ddfc-4ff0-81b2-a98c24d2db16', '0c722aba-95cb-4420-b6f1-07e2b2cad575', 'b8b5795e-4256-4d9b-ab7c-8a836d75184f', 'a19d9c58-ba33-416c-a7ec-3db27d2ee135', '86efc2ed-2e4e-4b8d-9a53-39992b4eed94', 'c0654e4b-df48-4ef1-9f5c-d59efad05426', 'f2f167ea-5dca-4bda-b83a-153552484bdf', '9e70179f-99e4-4d7a-a4bd-08d960b68ece', '5f87a716-6d6f-481e-891c-c0a5572d3f18', 'f67ad220-482c-4fc7-881c-ab267b03d686', '6a1dbcf5-74d1-4ecb-8e5d-0416e037e57e', 'bf62c88d-4a5d-4f1d-b6f8-5292121cbbdf', '12cbb1f1-6753-4a4d-aa20-16a3ff21cdac', '96d6c320-4645-4434-b4e0-193444ae1c6b', 'f40765b2-db6a-4303-87da-5e46526bac23', 'ee10b48f-e6d0-4809-b79b-98b8c22e7d28', 'e45dd94b-0a41-45f0-893c-63f6357e895d', 'b12a88f8-0a61-4b2e-8c4f-327a7e1294d5', '280944e2-1bb2-49c4-8086-76dd1c01a100', '9d671b4e-31cf-45d6-a5fd-f67f4ac7dec5', '6b253e57-1279-49f2-bf02-1d9fd97370b1', 'd5bf50b5-f2c8-4f85-a90f-93e58d204071', '19fa49fb-3b2d-4b1d-b2e9-f6c6c9865bd0', '0ba3fa18-a97b-4d6f-b9f9-6e7e0026b36e', '2a282cff-2bbf-4245-8454-e59fe3cdd8d3', '0907467e-b8eb-4f99-a326-1c1db2c3dae4', '315e35f5-3611-4c4c-8ab5-17d2e93329a1', '1800c1fc-6d55-4777-b4d4-6e9a8b1f2fe3', '3df1f6e4-6aa7-4f6b-ba82-35258d2e7241', '47eeecfe-ad4e-4c47-bbe1-38d596dea78f', '178de567-6310-42d1-bf2b-e1cfda4fa78e', '30d27211-7d0a-4b13-b90c-4b1f61e7cc12', '8038eadc-efa0-4f21-80e5-f49303562ffd', 'b8d73f55-aafc-40ce-83e0-8694feaba293', '480c9213-668d-4172-8663-2491f873cc4c', 'a0807171-1f30-43ee-a38d-e6308c74ff7c', '552681ff-73af-499c-a7de-2bb50d479ec2', '21f271e6-28f3-490d-8397-bd631bcb22bd', 'edd2cfb1-aea7-4697-b587-8511c1984a6a', '1e29dc86-ff56-4207-acbc-6bc40c14195d', 'cd5d501f-a328-41fb-9253-20ffdee3ab5d', '5598d8c8-c2ec-4fc1-a2c7-796c2810dc6d', 'cc981c22-df28-4edc-92c0-97c4486fee6e']\n"
     ]
    }
   ],
   "source": [
    "print(f\"vector store shape: {vector_store__document_embedded_vectors}\")"
   ]
  },
  {
   "cell_type": "markdown",
   "id": "d7784050",
   "metadata": {},
   "source": [
    "# We now should be able to answer User Queries\n",
    "By accessing our vector store and returning the relevant chunks of text, from Lillian's blog post, that answers the user's questions.\n",
    "\n",
    "## Onto Retrieval And Generation"
   ]
  },
  {
   "cell_type": "code",
   "execution_count": 9,
   "id": "0ad84b97",
   "metadata": {},
   "outputs": [
    {
     "name": "stdout",
     "output_type": "stream",
     "text": [
      "Example rag message: [HumanMessage(content=\"You are an assistant for question-answering tasks. Use the following pieces of retrieved context to answer the question. If you don't know the answer, just say that you don't know. Use three sentences maximum and keep the answer concise.\\nQuestion: question here \\nContext: context here \\nAnswer:\", additional_kwargs={}, response_metadata={})]\n"
     ]
    },
    {
     "name": "stderr",
     "output_type": "stream",
     "text": [
      "huggingface/tokenizers: The current process just got forked, after parallelism has already been used. Disabling parallelism to avoid deadlocks...\n",
      "To disable this warning, you can either:\n",
      "\t- Avoid using `tokenizers` before the fork if possible\n",
      "\t- Explicitly set the environment variable TOKENIZERS_PARALLELISM=(true | false)\n"
     ]
    }
   ],
   "source": [
    "# Get RAG prompt\n",
    "from langchain import hub\n",
    "\n",
    "# The actual RAG prompt\n",
    "rag_prompt = hub.pull(\"rlm/rag-prompt\")\n",
    "#print(f\"Actual template response: {rag_prompt.messages[0].prompt.template}.\")\n",
    "\n",
    "example_rag_message = rag_prompt.invoke({\n",
    "  \"context\": \"context here\",\n",
    "  \"question\": \"question here\"\n",
    "}).to_messages() # Example of passing in context and question to a full RAG prompt.\n",
    "\n",
    "print(f\"Example rag message: {example_rag_message}\")"
   ]
  },
  {
   "cell_type": "code",
   "execution_count": null,
   "id": "d6641d94",
   "metadata": {},
   "outputs": [],
   "source": [
    "## Use LangGraph to generate for our RAG application.\n",
    "\n",
    "# Begin the state definition phase, where we discuss what type of data we want our RAG model to process.\n",
    "\n",
    "from langchain_core.documents import Document\n",
    "from typing_extensions import List, TypedDict\n",
    "\n",
    "# Create the actual state, to define what data our RAG model handles\n",
    "\n",
    "class RAG_State(TypedDict):\n",
    "  question: str\n",
    "  context: List[Document] # remember, context should be several chunks of a document\n",
    "  answer: str\n",
    "\n",
    "def retrieve(rag_state: RAG_State):\n",
    "  \"\"\"\n",
    "  Retrieves relevant data, based on our user question, from the vector store\n",
    "\n",
    "  Args:\n",
    "    rag_state: A dictionary which, for this problem, contains the user question, in the key 'question'. Has to be of type RAG_State\n",
    "  \n",
    "  Returns:\n",
    "    All relevant context document chunks. Should be a dictionary of the following form: {str ; List[Document]}\n",
    "  \"\"\"\n",
    "  similar_document_chunks = vector_store.similarity_search(rag_state[\"question\"])\n",
    "  return {\"context\" : similar_document_chunks}\n",
    "\n",
    "def generate(rag_state: RAG_State):\n",
    "  \"\"\"\n",
    "  Generate appropriate RAG response to the user query.\n",
    "\n",
    "  Args:\n",
    "    rag_state: A dictionary which, for this problem, contains the user question, in the key 'question', and the context of the question, in the key 'context'. Has to be of type RAG_State\n",
    "  \n",
    "  Returns:\n",
    "    The model's response. Should be a dictionary of the following form: {str ; ?}\n",
    "  \"\"\"\n",
    "  documents_contents = \"\\n\\n\".join(doc.page_content for doc in rag_state[\"context\"])\n",
    "  formalized_RAG_prompt = rag_prompt.invoke({\"question\": rag_state[\"question\"], \"context\": rag_state[\"context\"]})\n",
    "  llm_RAG_response = llm.invoke(formalized_RAG_prompt)\n",
    "  return {\"answer\" : llm_RAG_response.content}"
   ]
  },
  {
   "cell_type": "code",
   "execution_count": null,
   "id": "f20c0ab9",
   "metadata": {},
   "outputs": [],
   "source": [
    "# Create a graph object, to link together the retrieval and generate steps.\n",
    "# Note that our retrieval and generate steps are simple as of now, but can be\n",
    "# made more complex.\n",
    "\n",
    "from langgraph.graph import START, StateGraph # START is a special Start Node\n",
    "\n",
    "rag_agent_maker = StateGraph(RAG_State).add_sequence([retrieve, generate])\n",
    "rag_agent_maker.add_edge(START, \"retrieve\") # links the special Start node to the retrieve node sequence we defined above.\n",
    "rag_agent = rag_agent_maker.compile() # now we have made our RAG agent."
   ]
  }
 ],
 "metadata": {
  "kernelspec": {
   "display_name": "rag-agent-musings",
   "language": "python",
   "name": "python3"
  },
  "language_info": {
   "codemirror_mode": {
    "name": "ipython",
    "version": 3
   },
   "file_extension": ".py",
   "mimetype": "text/x-python",
   "name": "python",
   "nbconvert_exporter": "python",
   "pygments_lexer": "ipython3",
   "version": "3.10.17"
  }
 },
 "nbformat": 4,
 "nbformat_minor": 5
}
