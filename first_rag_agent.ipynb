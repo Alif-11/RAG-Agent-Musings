{
 "cells": [
  {
   "cell_type": "code",
   "execution_count": 3,
   "id": "cbd97111",
   "metadata": {},
   "outputs": [],
   "source": [
    "import getpass\n",
    "import os\n",
    "\n",
    "# Set LangSmith Environment Variables\n",
    "os.environ[\"LANGSMITH_TRACING\"] = \"true\"\n",
    "os.environ[\"LANGSMITH_API_KEY\"] = getpass.getpass(\"Enter API key for LangSmith\")\n"
   ]
  },
  {
   "cell_type": "code",
   "execution_count": 4,
   "id": "77c0a804",
   "metadata": {},
   "outputs": [
    {
     "name": "stdout",
     "output_type": "stream",
     "text": [
      "Initializing chat model!\n",
      "Chat model initialization over!\n"
     ]
    }
   ],
   "source": [
    "# Set up google llm model for RAG usage\n",
    "os.environ[\"GOOGLE_API_KEY\"] = getpass.getpass(\"Enter API key for Google Gemini: \")\n",
    "\n",
    "\n",
    "print(\"Initializing chat model!\")\n",
    "from langchain.chat_models import init_chat_model\n",
    "\n",
    "llm = init_chat_model(\"gemini-2.0-flash\", model_provider=\"google_genai\")\n",
    "print(\"Chat model initialization over!\")"
   ]
  },
  {
   "cell_type": "code",
   "execution_count": 5,
   "id": "d23c2913",
   "metadata": {},
   "outputs": [
    {
     "name": "stdout",
     "output_type": "stream",
     "text": [
      "Initializing embedder model!\n"
     ]
    },
    {
     "name": "stderr",
     "output_type": "stream",
     "text": [
      "/opt/miniconda3/envs/rag-agent-musings/lib/python3.10/site-packages/tqdm/auto.py:21: TqdmWarning: IProgress not found. Please update jupyter and ipywidgets. See https://ipywidgets.readthedocs.io/en/stable/user_install.html\n",
      "  from .autonotebook import tqdm as notebook_tqdm\n"
     ]
    },
    {
     "name": "stdout",
     "output_type": "stream",
     "text": [
      "Embedder model initialized!\n"
     ]
    }
   ],
   "source": [
    "print(\"Initializing embedder model!\")\n",
    "from langchain_huggingface import HuggingFaceEmbeddings\n",
    "\n",
    "embeddings = HuggingFaceEmbeddings(model_name=\"sentence-transformers/all-mpnet-base-v2\")\n",
    "print(\"Embedder model initialized!\")"
   ]
  },
  {
   "cell_type": "code",
   "execution_count": 6,
   "id": "35bbca89",
   "metadata": {},
   "outputs": [
    {
     "name": "stdout",
     "output_type": "stream",
     "text": [
      "Initialize vector store!\n",
      "Vector store initialized!\n"
     ]
    }
   ],
   "source": [
    "print(\"Initialize vector store!\")\n",
    "from langchain_core.vectorstores import InMemoryVectorStore\n",
    "\n",
    "vector_store = InMemoryVectorStore(embeddings)\n",
    "print(\"Vector store initialized!\")"
   ]
  },
  {
   "cell_type": "code",
   "execution_count": 7,
   "id": "25b29c0e",
   "metadata": {},
   "outputs": [
    {
     "name": "stderr",
     "output_type": "stream",
     "text": [
      "USER_AGENT environment variable not set, consider setting it to identify your requests.\n"
     ]
    }
   ],
   "source": [
    "# Loading documents for RAG use\n",
    "\n",
    "# get beautiful soup\n",
    "import bs4\n",
    "# get Document Loaders\n",
    "from langchain_community.document_loaders import WebBaseLoader\n",
    "desired_webpage_link = \"https://lilianweng.github.io/posts/2023-06-23-agent/\"\n",
    "# the original tutorial only wanted us to keep html tags that\n",
    "# contain any of the class names listed in the tuple assigned to the \n",
    "# class_ keyword, in the below variable. We discard all other html tags.\n",
    "bs4_filtered = bs4.SoupStrainer()\n",
    "\n",
    "webpage_loader = WebBaseLoader(\n",
    "  web_paths=(desired_webpage_link,),\n",
    "  bs_kwargs={\"parse_only\": bs4_filtered}\n",
    ")\n",
    "\n",
    "documents = webpage_loader.load()\n",
    "#for key in documents[0]:\n",
    "  #print(f\"New key: {key}\")\n",
    "#print(f\"how many characters are in our page: {len(documents[0].page_content)}\")\n",
    "#print(f\"The first two thousand characters of the document: {documents[0].page_content[:2000]}\")"
   ]
  },
  {
   "cell_type": "code",
   "execution_count": 8,
   "id": "b3d03c34",
   "metadata": {},
   "outputs": [],
   "source": [
    "from langchain_text_splitters import RecursiveCharacterTextSplitter\n",
    "\n",
    "# create a text splitter instance\n",
    "recursive_text_splitter = RecursiveCharacterTextSplitter(\n",
    "  chunk_size=1000,\n",
    "  chunk_overlap=200,\n",
    "  add_start_index=True,\n",
    ")\n",
    "\n",
    "# obtain splitted text. our document is now a bunch of document shards.\n",
    "splitted_text = recursive_text_splitter.split_documents(documents)\n",
    "#print(f\"The splits we got back:\\n\\n{splitted_text[4].page_content}\")\n",
    "#print(f\"Number of splits:{len(splitted_text)}\")"
   ]
  },
  {
   "cell_type": "markdown",
   "id": "1f49a315",
   "metadata": {},
   "source": [
    "# We've loaded in our document. \n",
    "Split it up into text chunks, to allow our model to access bits of the data that fit into the LLM context window.\n",
    "\n",
    "Now, it's time to put these chunks into a storage format the LLM can access."
   ]
  },
  {
   "cell_type": "code",
   "execution_count": 9,
   "id": "70699a52",
   "metadata": {},
   "outputs": [],
   "source": [
    "# the vector store was previously initialized with our defined embeddings\n",
    "# in one command sequence, we tell the vector store to embed each of our document chunks.\n",
    "# we then store the embedded versions of these chunks into our vector store, for \n",
    "# later retrieval\n",
    "vector_store__document_embedded_vectors = vector_store.add_documents(splitted_text)\n"
   ]
  },
  {
   "cell_type": "code",
   "execution_count": 10,
   "id": "3de96322",
   "metadata": {},
   "outputs": [
    {
     "name": "stdout",
     "output_type": "stream",
     "text": [
      "vector store shape: ['27b0208f-fb09-41f6-946d-ce7c155e1a2c', '9dba033e-c50f-4604-a5ff-a0915a3f16a4', '74af6b07-6a62-4d5a-8a34-7799bbe0d8b0', 'd3636f85-94c7-4e72-93ee-980858edbc90', 'fda53b09-33c6-403c-8ba9-68e56f344a27', '4582af14-ab6d-42b0-a984-01f3a28739a1', '5ec743e3-f521-4118-9788-b8e338178237', '040ae68b-e89e-4c47-a1d4-f6dde175929a', '85c55627-1ad5-439c-8da4-cf7d9a9826b7', '6fad202c-ca86-499e-8c6d-9fa6221d3b53', '3f24a66b-e74b-4f86-8e84-caced4476401', 'dfe325e8-0ef1-482d-a693-dcd7cbad9fd9', '76962921-8f12-430b-9efd-2aec0980ac59', 'a174e7b2-5ffe-451a-bf18-9599f0012096', 'ebbd4003-7d36-4595-a2ec-643f9575a38f', '63089be8-ddcf-4907-a581-24c6f7d21a49', '3c560b62-350f-4c18-a28b-a41340defe53', '14952486-50f0-4823-b0a8-7f660e34e5fc', '36ed5da8-0c6a-43b3-b6c2-e39d0b1cf00a', 'd204562e-84b4-44b1-8927-bfc08dece243', 'cd2882a2-1847-4330-b643-95825c318bd2', '01011d21-8445-493b-97c3-ad656a5bc52c', '78785154-e9dc-4a80-bcb8-4685e017b06b', '1a707a5c-75d8-463d-8b41-5bc32170907d', 'd3a317ee-6803-4933-b410-e93a21f90542', 'dba25bb8-35a7-43cb-a18d-afd8560be533', '38b3624a-d810-45fd-9039-ae19feaa4404', 'd597daef-eff8-467c-898a-945d61a96b89', '61ea2045-d2f1-4e54-88c8-ceb1da8e0fb5', '4776a9ab-62ce-46aa-8159-96be5bc41eda', 'ffe01d45-ca70-47ba-b955-8797aee28a43', '7c74ca30-d57a-4903-843e-13ce5c2cf5b1', '6ca071af-9b06-47d6-8956-0613657fb245', '10819404-afe4-48ea-ad12-00b6fc3245a5', '9e9b43e6-6fbf-4849-8b2c-f35c4d91b7db', 'c20353fe-e36e-4564-bd78-effe21829072', '91d09333-99a9-46d2-a107-df3dfc1fabfd', 'ab85365f-b106-4552-bce1-a7d1d339c0e0', '61c9eef5-cb28-41bf-bc3e-24894d4a698a', '35cf9a0f-fa7a-4037-8847-5cc86b3a2cfb', '4f081ce1-437d-443d-8b5e-a89c02b87326', 'adc50861-72f8-4011-8856-f6a926d58d66', '58fcbe83-6ef8-4ae0-b2d5-fdcfe914865d', 'a16b56e1-85b5-494c-a9db-a7d17738215f', 'a4f1de8d-ec0e-42e4-b22f-1ea103abf09a', '6a0a301c-0e5d-4c2d-9943-8b310245c8ee', '0994eee1-622e-4534-b5f8-b3dd8606fcab', '3f07216c-91c2-4bce-8b4e-ccad67a95814', '1bfffda0-5bfa-41df-8de5-aa85faddac9c', '92d6b1e7-9ff9-425e-bc0a-ae6888c689ee', 'bcb74067-4931-470e-9ed8-bac422a1bdce', 'd9796a73-f1e8-4d31-b7c2-584790472fdb', '79bcb519-a18d-4772-887e-ea91e1b93436', 'fccb5707-0534-451b-986e-929a9a8407a7', '2dfe0e31-53ba-4cf5-80cb-90484982e718', '65c3000f-710c-4a96-94c1-36fe0ca5e8b3', 'd2440bea-6751-4160-8b6f-022ffb80b673', '4abbeeb7-acfc-4ae5-989f-1f7dc9abad2a', '6a5d8a4c-08bc-4487-a181-d3a23ec20198', 'c826caf5-980d-48d6-a007-51de9319282a', 'b513f748-54c6-4462-9dab-9936442921e1', '27c00839-2ad8-48f9-89f4-ef435940f8b3', '93293bec-c002-4944-b392-17ea875788da', '0dabef53-86f1-4089-8682-4fe01cc085be', 'bea3a2a9-6d0a-47d4-9503-f25d79918e71', '54e19c86-7098-4409-8512-5722767d7e2f']\n"
     ]
    }
   ],
   "source": [
    "print(f\"vector store shape: {vector_store__document_embedded_vectors}\")"
   ]
  },
  {
   "cell_type": "markdown",
   "id": "d7784050",
   "metadata": {},
   "source": [
    "# We now should be able to answer User Queries\n",
    "By accessing our vector store and returning the relevant chunks of text, from Lillian's blog post, that answers the user's questions.\n",
    "\n",
    "## Onto Retrieval And Generation"
   ]
  },
  {
   "cell_type": "code",
   "execution_count": 11,
   "id": "0ad84b97",
   "metadata": {},
   "outputs": [
    {
     "name": "stdout",
     "output_type": "stream",
     "text": [
      "Example rag message: [HumanMessage(content=\"You are an assistant for question-answering tasks. Use the following pieces of retrieved context to answer the question. If you don't know the answer, just say that you don't know. Use three sentences maximum and keep the answer concise.\\nQuestion: question here \\nContext: context here \\nAnswer:\", additional_kwargs={}, response_metadata={})]\n"
     ]
    },
    {
     "name": "stderr",
     "output_type": "stream",
     "text": [
      "huggingface/tokenizers: The current process just got forked, after parallelism has already been used. Disabling parallelism to avoid deadlocks...\n",
      "To disable this warning, you can either:\n",
      "\t- Avoid using `tokenizers` before the fork if possible\n",
      "\t- Explicitly set the environment variable TOKENIZERS_PARALLELISM=(true | false)\n"
     ]
    }
   ],
   "source": [
    "# Get RAG prompt\n",
    "from langchain import hub\n",
    "\n",
    "# The actual RAG prompt\n",
    "rag_prompt = hub.pull(\"rlm/rag-prompt\")\n",
    "#print(f\"Actual template response: {rag_prompt.messages[0].prompt.template}.\")\n",
    "\n",
    "example_rag_message = rag_prompt.invoke({\n",
    "  \"context\": \"context here\",\n",
    "  \"question\": \"question here\"\n",
    "}).to_messages() # Example of passing in context and question to a full RAG prompt.\n",
    "\n",
    "print(f\"Example rag message: {example_rag_message}\")"
   ]
  },
  {
   "cell_type": "code",
   "execution_count": 12,
   "id": "d6641d94",
   "metadata": {},
   "outputs": [],
   "source": [
    "## Use LangGraph to generate for our RAG application.\n",
    "\n",
    "# Begin the state definition phase, where we discuss what type of data we want our RAG model to process.\n",
    "\n",
    "from langchain_core.documents import Document\n",
    "from typing_extensions import List, TypedDict\n",
    "\n",
    "# Create the actual state, to define what data our RAG model handles\n",
    "\n",
    "class RAG_State(TypedDict):\n",
    "  question: str\n",
    "  context: List[Document] # remember, context should be several chunks of a document\n",
    "  answer: str\n",
    "\n",
    "def retrieve(rag_state: RAG_State):\n",
    "  \"\"\"\n",
    "  Retrieves relevant data, based on our user question, from the vector store\n",
    "\n",
    "  Args:\n",
    "    rag_state: A dictionary which, for this problem, contains the user question, in the key 'question'. Has to be of type RAG_State\n",
    "  \n",
    "  Returns:\n",
    "    All relevant context document chunks. Should be a dictionary of the following form: {str ; List[Document]}\n",
    "  \"\"\"\n",
    "  similar_document_chunks = vector_store.similarity_search(rag_state[\"question\"])\n",
    "  return {\"context\" : similar_document_chunks}\n",
    "\n",
    "def generate(rag_state: RAG_State):\n",
    "  \"\"\"\n",
    "  Generate appropriate RAG response to the user query.\n",
    "\n",
    "  Args:\n",
    "    rag_state: A dictionary which, for this problem, contains the user question, in the key 'question', and the context of the question, in the key 'context'. Has to be of type RAG_State\n",
    "  \n",
    "  Returns:\n",
    "    The model's response. Should be a dictionary of the following form: {str ; ?}\n",
    "  \"\"\"\n",
    "  documents_contents = \"\\n\\n\".join(doc.page_content for doc in rag_state[\"context\"])\n",
    "  formalized_RAG_prompt = rag_prompt.invoke({\"question\": rag_state[\"question\"], \"context\": rag_state[\"context\"]})\n",
    "  llm_RAG_response = llm.invoke(formalized_RAG_prompt)\n",
    "  return {\"answer\" : llm_RAG_response.content}"
   ]
  },
  {
   "cell_type": "code",
   "execution_count": 13,
   "id": "f20c0ab9",
   "metadata": {},
   "outputs": [],
   "source": [
    "# Create a graph object, to link together the retrieval and generate steps.\n",
    "# Note that our retrieval and generate steps are simple as of now, but can be\n",
    "# made more complex.\n",
    "\n",
    "from langgraph.graph import START, StateGraph # START is a special Start Node\n",
    "\n",
    "rag_agent_maker = StateGraph(RAG_State).add_sequence([retrieve, generate])\n",
    "rag_agent_maker.add_edge(START, \"retrieve\") # links the special Start node to the retrieve node sequence we defined above.\n",
    "rag_agent = rag_agent_maker.compile() # now we have made our RAG agent."
   ]
  },
  {
   "cell_type": "code",
   "execution_count": 21,
   "id": "d4792f6b",
   "metadata": {},
   "outputs": [
    {
     "name": "stdout",
     "output_type": "stream",
     "text": [
      "Context: }\n",
      "]\n",
      "Then after these clarification, the agent moved into the code writing mode with a different system message.\n",
      "System message:\n",
      "Answer: I'm sorry, but the provided context does not contain information about choosing another item and repeating a process. Therefore, I cannot provide an answer to your question.\n"
     ]
    }
   ],
   "source": [
    "user_question = input(\"Please input your question to give to our RAG agent.\")\n",
    "rag_agent_response = rag_agent.invoke({\"question\": user_question})\n",
    "\n",
    "print(f\"Context: {rag_agent_response['context'][0].page_content}\")\n",
    "print(f\"Answer: {rag_agent_response['answer']}\")"
   ]
  },
  {
   "cell_type": "code",
   "execution_count": null,
   "id": "b1d5fe13",
   "metadata": {},
   "outputs": [],
   "source": []
  }
 ],
 "metadata": {
  "kernelspec": {
   "display_name": "rag-agent-musings",
   "language": "python",
   "name": "python3"
  },
  "language_info": {
   "codemirror_mode": {
    "name": "ipython",
    "version": 3
   },
   "file_extension": ".py",
   "mimetype": "text/x-python",
   "name": "python",
   "nbconvert_exporter": "python",
   "pygments_lexer": "ipython3",
   "version": "3.10.17"
  }
 },
 "nbformat": 4,
 "nbformat_minor": 5
}
