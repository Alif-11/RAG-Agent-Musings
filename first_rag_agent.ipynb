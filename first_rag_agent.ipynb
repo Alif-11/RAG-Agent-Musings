{
 "cells": [
  {
   "cell_type": "code",
   "execution_count": 1,
   "id": "cbd97111",
   "metadata": {},
   "outputs": [],
   "source": [
    "import getpass\n",
    "import os\n",
    "\n",
    "# Set LangSmith Environment Variables\n",
    "os.environ[\"LANGSMITH_TRACING\"] = \"true\"\n",
    "os.environ[\"LANGSMITH_API_KEY\"] = getpass.getpass(\"Enter API key for LangSmith\")\n"
   ]
  },
  {
   "cell_type": "code",
   "execution_count": 2,
   "id": "77c0a804",
   "metadata": {},
   "outputs": [
    {
     "name": "stdout",
     "output_type": "stream",
     "text": [
      "Initializing chat model!\n",
      "Chat model initialization over!\n"
     ]
    }
   ],
   "source": [
    "# Set up google llm model for RAG usage\n",
    "os.environ[\"GOOGLE_API_KEY\"] = getpass.getpass(\"Enter API key for Google Gemini: \")\n",
    "\n",
    "\n",
    "print(\"Initializing chat model!\")\n",
    "from langchain.chat_models import init_chat_model\n",
    "\n",
    "llm = init_chat_model(\"gemini-2.0-flash\", model_provider=\"google_genai\")\n",
    "print(\"Chat model initialization over!\")"
   ]
  },
  {
   "cell_type": "code",
   "execution_count": 3,
   "id": "d23c2913",
   "metadata": {},
   "outputs": [
    {
     "name": "stdout",
     "output_type": "stream",
     "text": [
      "Initializing embedder model!\n"
     ]
    },
    {
     "name": "stderr",
     "output_type": "stream",
     "text": [
      "/opt/miniconda3/envs/rag-agent-musings/lib/python3.10/site-packages/tqdm/auto.py:21: TqdmWarning: IProgress not found. Please update jupyter and ipywidgets. See https://ipywidgets.readthedocs.io/en/stable/user_install.html\n",
      "  from .autonotebook import tqdm as notebook_tqdm\n"
     ]
    },
    {
     "name": "stdout",
     "output_type": "stream",
     "text": [
      "Embedder model initialized!\n"
     ]
    }
   ],
   "source": [
    "print(\"Initializing embedder model!\")\n",
    "from langchain_huggingface import HuggingFaceEmbeddings\n",
    "\n",
    "embeddings = HuggingFaceEmbeddings(model_name=\"sentence-transformers/all-mpnet-base-v2\")\n",
    "print(\"Embedder model initialized!\")"
   ]
  },
  {
   "cell_type": "code",
   "execution_count": 4,
   "id": "35bbca89",
   "metadata": {},
   "outputs": [
    {
     "name": "stdout",
     "output_type": "stream",
     "text": [
      "Initialize vector store!\n",
      "Vector store initialized!\n"
     ]
    }
   ],
   "source": [
    "print(\"Initialize vector store!\")\n",
    "from langchain_core.vectorstores import InMemoryVectorStore\n",
    "\n",
    "vector_store = InMemoryVectorStore(embeddings)\n",
    "print(\"Vector store initialized!\")"
   ]
  },
  {
   "cell_type": "code",
   "execution_count": 5,
   "id": "25b29c0e",
   "metadata": {},
   "outputs": [
    {
     "name": "stderr",
     "output_type": "stream",
     "text": [
      "USER_AGENT environment variable not set, consider setting it to identify your requests.\n"
     ]
    }
   ],
   "source": [
    "# Loading documents for RAG use\n",
    "\n",
    "# get beautiful soup\n",
    "import bs4\n",
    "# get Document Loaders\n",
    "from langchain_community.document_loaders import WebBaseLoader\n",
    "desired_webpage_link = \"https://lilianweng.github.io/posts/2023-06-23-agent/\"\n",
    "# the original tutorial only wanted us to keep html tags that\n",
    "# contain any of the class names listed in the tuple assigned to the \n",
    "# class_ keyword, in the below variable. We discard all other html tags.\n",
    "bs4_filtered = bs4.SoupStrainer(class_=(\"post-title\", \"post-header\", \"post-content\"))\n",
    "\n",
    "webpage_loader = WebBaseLoader(\n",
    "  web_paths=(desired_webpage_link,),\n",
    "  bs_kwargs={\"parse_only\": bs4_filtered}\n",
    ")\n",
    "\n",
    "documents = webpage_loader.load()\n",
    "#for key in documents[0]:\n",
    "  #print(f\"New key: {key}\")\n",
    "#print(f\"how many characters are in our page: {len(documents[0].page_content)}\")\n",
    "#print(f\"The first two thousand characters of the document: {documents[0].page_content[:2000]}\")"
   ]
  },
  {
   "cell_type": "code",
   "execution_count": 6,
   "id": "b3d03c34",
   "metadata": {},
   "outputs": [],
   "source": [
    "from langchain_text_splitters import RecursiveCharacterTextSplitter\n",
    "\n",
    "# create a text splitter instance\n",
    "recursive_text_splitter = RecursiveCharacterTextSplitter(\n",
    "  chunk_size=1000,\n",
    "  chunk_overlap=200,\n",
    "  add_start_index=True,\n",
    ")\n",
    "\n",
    "# obtain splitted text. our document is now a bunch of document shards.\n",
    "splitted_text = recursive_text_splitter.split_documents(documents)\n",
    "#print(f\"The splits we got back:\\n\\n{splitted_text[4].page_content}\")\n",
    "#print(f\"Number of splits:{len(splitted_text)}\")"
   ]
  },
  {
   "cell_type": "markdown",
   "id": "1f49a315",
   "metadata": {},
   "source": [
    "# We've loaded in our document. \n",
    "Split it up into text chunks, to allow our model to access bits of the data that fit into the LLM context window.\n",
    "\n",
    "Now, it's time to put these chunks into a storage format the LLM can access."
   ]
  },
  {
   "cell_type": "code",
   "execution_count": 7,
   "id": "70699a52",
   "metadata": {},
   "outputs": [],
   "source": [
    "# the vector store was previously initialized with our defined embeddings\n",
    "# in one command sequence, we tell the vector store to embed each of our document chunks.\n",
    "# we then store the embedded versions of these chunks into our vector store, for \n",
    "# later retrieval\n",
    "vector_store__document_embedded_vectors = vector_store.add_documents(splitted_text)\n"
   ]
  },
  {
   "cell_type": "code",
   "execution_count": 8,
   "id": "3de96322",
   "metadata": {},
   "outputs": [
    {
     "name": "stdout",
     "output_type": "stream",
     "text": [
      "vector store shape: ['8ecc7774-2c76-4c9a-bc79-7a6379389f0c', 'a61bd847-6e0f-4ad4-a1ae-9005b292e4bf', '5c911a97-b803-45f9-af64-cd10f792cfb1', 'b067690c-8da9-416c-ae2a-02d3d5af838b', '1c18338e-136a-4b99-9759-7df9e75a108f', 'd9cae80c-2e0d-4c80-8abe-2292ae632c14', '20b56683-1f15-4e1a-819c-32e9eeaec5c1', '24101068-73fd-4ba0-9477-6d275e6d82d7', '427d0666-6b2a-4f16-9e23-78d75ae0378d', '03c3cb3f-34a5-4334-9de0-3b61d5dabcb9', 'ca26fa0e-f1ea-4b22-ba7d-5327892c9394', '4920eb01-bc1d-4110-805b-e238eb5000d0', 'a4f0a59a-025d-468c-8a75-18c64c75ee31', '7ce60e37-8de3-4090-a814-2632c5cdaf66', 'a3b6f0d9-72db-4321-adc2-3ed8d252577a', 'ac2dfa7a-23be-4959-a4bf-ff73bfc7e94e', 'a5bfc19c-785c-4045-b670-4679096ca365', 'd0f2c3d3-4113-4997-ad0f-fb0ef55c128a', 'b7325442-d6ec-426e-8854-15c31d478766', '20970112-9c19-42cf-a467-3359f6fc5713', 'c5e15180-187b-40e2-894e-a7b86c265076', '4ed6e626-71c8-48f0-a987-1248c29ddfe2', '4cf6ac92-bb9d-445c-82a1-d3416d15fa8d', '2e74c9ac-0fa9-462d-b24f-1d0c8a2a421c', '3b6d2af5-cfa6-4177-b789-e7bb5d35cf0c', '7d2073ed-9acd-4eb6-9c6b-1b9bd340b3a2', '002ff9a7-3e8e-4499-ae9e-3ecf3053e861', '1d7943bb-c75f-41a1-8ac4-a49236fec435', '3ea42172-fca6-437b-a972-ce526e4afeeb', '3b408305-b8df-4c29-89b2-744c4fef5b88', '2b67fd3b-81f8-4a85-a54d-0b15a2f63b22', '9d976db4-2c72-482e-b9a7-9b0e189d0bf9', 'b3372d22-d1bb-43dc-b386-d3c9015056c2', '1374438f-04af-452f-b531-fd1e2f7c069b', 'a9fb8e63-9752-41ba-a935-86b6f5405751', '5d72e1f9-0c68-420b-91d5-54d2c5496f5b', 'b54397ce-2b87-43ce-ab29-8023280c0f6f', '01177b9c-21c7-444d-a37f-38b8fd67e41b', 'ae91561b-a492-4660-bfc0-546b82f8023f', 'be66463f-fc9f-4263-aa87-c89482930103', '9ca52fc9-0864-4b8f-a5cd-7473d0fed78e', '4d65e50e-3721-433b-92fc-3b9fa273d2ee', '17b6a56e-8ccd-4e03-a5d5-5cb6e359370d', 'f2e2f02f-f195-465a-a303-eff3fa37bda8', '4685139f-74f3-4c4a-9ca3-39d058b304c7', '64009701-91d5-4d64-9b39-d3b7cedd1782', '68cf1dda-9a0a-4eda-926c-d85f542e09c5', '1e75fd0f-d831-44c5-9529-ded4b133dd94', '4a80b442-828a-4a43-b545-060b74e05f65', '62ff0955-0645-4017-89d6-d1225da73f06', '42388679-0ca4-4516-865d-92997a744dc9', '2c2b61a3-9d9f-4afc-8d9b-bf5922268511', 'c2d88cae-058d-4a80-8533-fcc5acd38a2a', '71d73bae-bb63-4599-9ccb-411b545b276f', '71727ffb-ddcd-4a6d-a0c5-6f34928f30e0', 'dace7bf8-1b1a-4a43-b30e-656400227fe6', '95508f81-f5db-4669-a5b7-e60ac71384ce', 'c3c50990-ce07-4565-829d-bd7ab76750b5', '1bda9035-5196-4ca1-8bc0-5a7152acca9b', 'd1cb2e8d-791d-426c-9ef9-6c85c717f806', '2f698cd7-fb5e-4911-a1c0-609e707467c8', '6a649bd7-becd-4920-9db8-82163ba7144e', '4cd34ab4-8a0b-4bd5-bd06-885d8317273e']\n"
     ]
    }
   ],
   "source": [
    "print(f\"vector store shape: {vector_store__document_embedded_vectors}\")"
   ]
  },
  {
   "cell_type": "markdown",
   "id": "d7784050",
   "metadata": {},
   "source": [
    "# We now should be able to answer User Queries\n",
    "By accessing our vector store and returning the relevant chunks of text, from Lillian's blog post, that answers the user's questions.\n",
    "\n",
    "## Onto Retrieval And Generation"
   ]
  },
  {
   "cell_type": "code",
   "execution_count": null,
   "id": "0ad84b97",
   "metadata": {},
   "outputs": [
    {
     "name": "stdout",
     "output_type": "stream",
     "text": [
      "Example rag message: [HumanMessage(content=\"You are an assistant for question-answering tasks. Use the following pieces of retrieved context to answer the question. If you don't know the answer, just say that you don't know. Use three sentences maximum and keep the answer concise.\\nQuestion: question here \\nContext: context here \\nAnswer:\", additional_kwargs={}, response_metadata={})]\n"
     ]
    }
   ],
   "source": [
    "# Get RAG prompt\n",
    "from langchain import hub\n",
    "\n",
    "# The actual RAG prompt\n",
    "rag_prompt = hub.pull(\"rlm/rag-prompt\")\n",
    "#print(f\"Actual template response: {rag_prompt.messages[0].prompt.template}.\")\n",
    "\n",
    "example_rag_message = rag_prompt.invoke({\n",
    "  \"context\": \"context here\",\n",
    "  \"question\": \"question here\"\n",
    "}).to_messages() # Example of passing in context and question to a full RAG prompt.\n",
    "\n",
    "print(f\"Example rag message: {example_rag_message}\")"
   ]
  },
  {
   "cell_type": "code",
   "execution_count": null,
   "id": "d6641d94",
   "metadata": {},
   "outputs": [],
   "source": [
    "## Use LangGraph to generate for our RAG application.\n",
    "\n",
    "# Begin the state definition phase, where we discuss what type of data we want our RAG model to process.\n",
    "\n",
    "from langchain_core.documents import Document\n",
    "from typing_extensions import List, TypedDict\n",
    "\n",
    "# Create the actual state, to define what data our RAG model handles\n",
    "\n",
    "class RAG_State(TypedDict):\n",
    "  question: str\n",
    "  context: List[Document] # remember, context should be several chunks of a document\n",
    "  answer: str\n"
   ]
  }
 ],
 "metadata": {
  "kernelspec": {
   "display_name": "rag-agent-musings",
   "language": "python",
   "name": "python3"
  },
  "language_info": {
   "codemirror_mode": {
    "name": "ipython",
    "version": 3
   },
   "file_extension": ".py",
   "mimetype": "text/x-python",
   "name": "python",
   "nbconvert_exporter": "python",
   "pygments_lexer": "ipython3",
   "version": "3.10.17"
  }
 },
 "nbformat": 4,
 "nbformat_minor": 5
}
