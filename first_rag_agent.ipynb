{
 "cells": [
  {
   "cell_type": "code",
   "execution_count": 1,
   "id": "cbd97111",
   "metadata": {},
   "outputs": [],
   "source": [
    "import getpass\n",
    "import os\n",
    "\n",
    "# Set LangSmith Environment Variables\n",
    "os.environ[\"LANGSMITH_TRACING\"] = \"true\"\n",
    "os.environ[\"LANGSMITH_API_KEY\"] = getpass.getpass(\"Enter API key for LangSmith\")\n"
   ]
  },
  {
   "cell_type": "code",
   "execution_count": 2,
   "id": "77c0a804",
   "metadata": {},
   "outputs": [
    {
     "name": "stdout",
     "output_type": "stream",
     "text": [
      "Initializing chat model!\n",
      "Chat model initialization over!\n"
     ]
    }
   ],
   "source": [
    "# Set up google llm model for RAG usage\n",
    "os.environ[\"GOOGLE_API_KEY\"] = getpass.getpass(\"Enter API key for Google Gemini: \")\n",
    "\n",
    "\n",
    "print(\"Initializing chat model!\")\n",
    "from langchain.chat_models import init_chat_model\n",
    "\n",
    "llm = init_chat_model(\"gemini-2.0-flash\", model_provider=\"google_genai\")\n",
    "print(\"Chat model initialization over!\")"
   ]
  },
  {
   "cell_type": "code",
   "execution_count": 3,
   "id": "d23c2913",
   "metadata": {},
   "outputs": [
    {
     "name": "stdout",
     "output_type": "stream",
     "text": [
      "Initializing embedder model!\n"
     ]
    },
    {
     "name": "stderr",
     "output_type": "stream",
     "text": [
      "/opt/miniconda3/envs/rag-agent-musings/lib/python3.10/site-packages/tqdm/auto.py:21: TqdmWarning: IProgress not found. Please update jupyter and ipywidgets. See https://ipywidgets.readthedocs.io/en/stable/user_install.html\n",
      "  from .autonotebook import tqdm as notebook_tqdm\n"
     ]
    },
    {
     "name": "stdout",
     "output_type": "stream",
     "text": [
      "Embedder model initialized!\n"
     ]
    }
   ],
   "source": [
    "print(\"Initializing embedder model!\")\n",
    "from langchain_huggingface import HuggingFaceEmbeddings\n",
    "\n",
    "embeddings = HuggingFaceEmbeddings(model_name=\"sentence-transformers/all-mpnet-base-v2\")\n",
    "print(\"Embedder model initialized!\")"
   ]
  },
  {
   "cell_type": "code",
   "execution_count": 4,
   "id": "35bbca89",
   "metadata": {},
   "outputs": [
    {
     "name": "stdout",
     "output_type": "stream",
     "text": [
      "Initialize vector store!\n",
      "Vector store initialized!\n"
     ]
    }
   ],
   "source": [
    "print(\"Initialize vector store!\")\n",
    "from langchain_core.vectorstores import InMemoryVectorStore\n",
    "\n",
    "vector_store = InMemoryVectorStore(embeddings)\n",
    "print(\"Vector store initialized!\")"
   ]
  },
  {
   "cell_type": "code",
   "execution_count": null,
   "id": "25b29c0e",
   "metadata": {},
   "outputs": [
    {
     "name": "stdout",
     "output_type": "stream",
     "text": [
      "how many documents we accessed: 43130\n"
     ]
    }
   ],
   "source": [
    "# Loading documents for RAG use\n",
    "\n",
    "# get beautiful soup\n",
    "import bs4\n",
    "# get Document Loaders\n",
    "from langchain_community.document_loaders import WebBaseLoader\n",
    "desired_webpage_link = \"https://lilianweng.github.io/posts/2023-06-23-agent/\"\n",
    "# the original tutorial only wanted us to keep html tags that\n",
    "# contain any of the class names listed in the tuple assigned to the \n",
    "# class_ keyword, in the below variable. We discard all other html tags.\n",
    "bs4_filtered = bs4.SoupStrainer(class_=(\"post-title\", \"post-header\", \"post-content\"))\n",
    "\n",
    "webpage_loader = WebBaseLoader(\n",
    "  web_paths=(desired_webpage_link,),\n",
    "  bs_kwargs={\"parse_only\": bs4_filtered}\n",
    ")\n",
    "\n",
    "documents = webpage_loader.load()\n",
    "for key in documents[0]:\n",
    "  print(f\"New key: {key}\")\n",
    "print(f\"how many characters are in our page: {len(documents[0].page_content)}\")"
   ]
  }
 ],
 "metadata": {
  "kernelspec": {
   "display_name": "rag-agent-musings",
   "language": "python",
   "name": "python3"
  },
  "language_info": {
   "codemirror_mode": {
    "name": "ipython",
    "version": 3
   },
   "file_extension": ".py",
   "mimetype": "text/x-python",
   "name": "python",
   "nbconvert_exporter": "python",
   "pygments_lexer": "ipython3",
   "version": "3.10.17"
  }
 },
 "nbformat": 4,
 "nbformat_minor": 5
}
